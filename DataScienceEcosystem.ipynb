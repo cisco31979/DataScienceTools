{
 "cells": [
  {
   "cell_type": "markdown",
   "id": "8901dc28-198a-44cb-ae3e-4146a85f6938",
   "metadata": {},
   "source": [
    "# **Data Science Tools and Ecosystem**"
   ]
  },
  {
   "cell_type": "markdown",
   "id": "aa6c4dc5-42c6-4541-91df-38bd71e12eca",
   "metadata": {
    "tags": []
   },
   "source": [
    "##### ***This notebook, we will summarize the Data Science Tools and Ecosystems.***"
   ]
  },
  {
   "cell_type": "markdown",
   "id": "83fb2def-ebf6-4efb-9ea0-6c4e9957abc3",
   "metadata": {},
   "source": [
    "__Objectives:__\n",
    "- Popular languages in data science\n",
    "- Common libraries used in data science.\n",
    "- Evaluating arithmetic expressions"
   ]
  },
  {
   "cell_type": "markdown",
   "id": "b943d8f9-9b27-4d90-ae24-37a88cb2a285",
   "metadata": {},
   "source": [
    "##### Some of the most popular languages in Data Science are:\n",
    "1. Python\n",
    "2. R\n",
    "3. SQL"
   ]
  },
  {
   "cell_type": "markdown",
   "id": "075df6cc-c3d5-428c-8090-d807178dc1ca",
   "metadata": {
    "tags": []
   },
   "source": [
    "##### Some of the most common libraries used by Data Scientists include:\n",
    "1. TensorFlow\n",
    "2. NumPy\n",
    "3. SciPy\n",
    "4. Pandas\n",
    "5. Matplotlib"
   ]
  },
  {
   "cell_type": "markdown",
   "id": "07c35bd3-6fba-4416-8b2d-dbb1fd669cd0",
   "metadata": {},
   "source": [
    "| Data Science Tools |\n",
    "| ------------- |\n",
    "| Jupyter Notebooks |\n",
    "| R Studio |\n",
    "| Hadoop |"
   ]
  },
  {
   "cell_type": "markdown",
   "id": "c0291601-b178-4ee3-917f-d5174e078fa6",
   "metadata": {},
   "source": [
    "### Below are examples of evaluating arithmetic expressions in Python:"
   ]
  },
  {
   "cell_type": "code",
   "execution_count": 2,
   "id": "6f22c5e4-c6a2-462a-876c-9d0066664cee",
   "metadata": {},
   "outputs": [
    {
     "data": {
      "text/plain": [
       "17"
      ]
     },
     "execution_count": 2,
     "metadata": {},
     "output_type": "execute_result"
    }
   ],
   "source": [
    "# This operation will multiply and then add integers\n",
    "(3*4)+5"
   ]
  },
  {
   "cell_type": "code",
   "execution_count": 6,
   "id": "2bbde51d-bb15-41dc-aedd-0927443678dd",
   "metadata": {},
   "outputs": [
    {
     "name": "stdout",
     "output_type": "stream",
     "text": [
      "There are 3.3333333333333335 in 200 minutes\n"
     ]
    }
   ],
   "source": [
    "# This will calcuate minutes into hours by dividing the total minutes by 60\n",
    "minutes = 200\n",
    "hours = 200/60\n",
    "print(\"{}{}{}\".format(\"There are \", hours, \" in 200 minutes\"))"
   ]
  },
  {
   "cell_type": "markdown",
   "id": "f989eb3b-8419-4b0a-9c68-a020a7fc8741",
   "metadata": {},
   "source": [
    "## Author\n",
    "### Francisco Magallanes"
   ]
  },
  {
   "cell_type": "code",
   "execution_count": null,
   "id": "d605324d-7070-4d78-88df-a44c1d9a34b9",
   "metadata": {},
   "outputs": [],
   "source": []
  }
 ],
 "metadata": {
  "kernelspec": {
   "display_name": "Python",
   "language": "python",
   "name": "conda-env-python-py"
  },
  "language_info": {
   "codemirror_mode": {
    "name": "ipython",
    "version": 3
   },
   "file_extension": ".py",
   "mimetype": "text/x-python",
   "name": "python",
   "nbconvert_exporter": "python",
   "pygments_lexer": "ipython3",
   "version": "3.7.12"
  }
 },
 "nbformat": 4,
 "nbformat_minor": 5
}
